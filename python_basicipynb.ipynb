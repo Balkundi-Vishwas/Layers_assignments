{
 "cells": [
  {
   "cell_type": "code",
   "execution_count": 19,
   "id": "d5f066c9",
   "metadata": {},
   "outputs": [
    {
     "name": "stdout",
     "output_type": "stream",
     "text": [
      "enter a number4\n",
      "not weird\n"
     ]
    }
   ],
   "source": [
    "x=int(input('enter a number'))\n",
    "r=x%2\n",
    "if(r==1):\n",
    "    print('weird')\n",
    "elif(x>=6 and x<=20):\n",
    "    print('weird')\n",
    "else:\n",
    "    print('not weird')"
   ]
  },
  {
   "cell_type": "code",
   "execution_count": 1,
   "id": "fc556b57",
   "metadata": {},
   "outputs": [
    {
     "name": "stdout",
     "output_type": "stream",
     "text": [
      "5\n",
      "6\n",
      "11\n",
      "-1\n",
      "30\n"
     ]
    }
   ],
   "source": [
    "    a = int(input())\n",
    "    b = int(input())\n",
    "    print(a+b)\n",
    "    print(a-b)\n",
    "    print(a*b)\n"
   ]
  },
  {
   "cell_type": "code",
   "execution_count": 4,
   "id": "b632c08e",
   "metadata": {},
   "outputs": [
    {
     "name": "stdout",
     "output_type": "stream",
     "text": [
      "2100\n",
      "false\n"
     ]
    }
   ],
   "source": [
    "a=int(input())\n",
    "if(a%4==0):\n",
    "    if(a%100==0):\n",
    "        if(a%400==0):\n",
    "            print(\"true\")\n",
    "        else:\n",
    "            print(\"false\")\n",
    "    else:\n",
    "        print(\"true\")\n",
    "else:\n",
    "    print(\"false\")\n",
    "        \n"
   ]
  },
  {
   "cell_type": "code",
   "execution_count": 6,
   "id": "6144b967",
   "metadata": {},
   "outputs": [
    {
     "name": "stdout",
     "output_type": "stream",
     "text": [
      "5\n",
      "0\n",
      "1\n",
      "4\n",
      "9\n",
      "16\n"
     ]
    }
   ],
   "source": [
    "a=int(input())\n",
    "for i in range(a):\n",
    "    print(i*i)"
   ]
  },
  {
   "cell_type": "code",
   "execution_count": 7,
   "id": "f0133bc1",
   "metadata": {},
   "outputs": [
    {
     "name": "stdout",
     "output_type": "stream",
     "text": [
      "12\n",
      "5\n",
      "2\n",
      "2.4\n"
     ]
    }
   ],
   "source": [
    "a=int(input())\n",
    "b=int(input())\n",
    "print(a//b)\n",
    "print(a/b)"
   ]
  },
  {
   "cell_type": "code",
   "execution_count": 5,
   "id": "d4ba8aba",
   "metadata": {},
   "outputs": [
    {
     "name": "stdout",
     "output_type": "stream",
     "text": [
      "10\n",
      "12345678910\n"
     ]
    }
   ],
   "source": [
    "print(*range(1,int(input())+1),sep=\"\")\n"
   ]
  },
  {
   "cell_type": "code",
   "execution_count": 9,
   "id": "b77b1afb",
   "metadata": {
    "scrolled": true
   },
   "outputs": [
    {
     "name": "stdout",
     "output_type": "stream",
     "text": [
      "2\n",
      "2\n",
      "2\n",
      "2\n",
      "[[0, 0, 0], [0, 0, 1], [0, 1, 0], [0, 1, 2], [0, 2, 1], [0, 2, 2], [1, 0, 0], [1, 0, 2], [1, 1, 1], [1, 1, 2], [1, 2, 0], [1, 2, 1], [1, 2, 2], [2, 0, 1], [2, 0, 2], [2, 1, 0], [2, 1, 1], [2, 1, 2], [2, 2, 0], [2, 2, 1], [2, 2, 2]]\n"
     ]
    }
   ],
   "source": [
    "a, b, c, n = [int(input()) for x in range(4)]\n",
    "print ([[x,y,z] for x in range(a + 1) for y in range(b + 1) for z in range(c + 1) if x + y + z != n])"
   ]
  },
  {
   "cell_type": "code",
   "execution_count": 22,
   "id": "32917d26",
   "metadata": {},
   "outputs": [
    {
     "name": "stdout",
     "output_type": "stream",
     "text": [
      "5\n",
      "1\n"
     ]
    },
    {
     "ename": "TypeError",
     "evalue": "'map' object is not subscriptable",
     "output_type": "error",
     "traceback": [
      "\u001b[1;31m---------------------------------------------------------------------------\u001b[0m",
      "\u001b[1;31mTypeError\u001b[0m                                 Traceback (most recent call last)",
      "Input \u001b[1;32mIn [22]\u001b[0m, in \u001b[0;36m<module>\u001b[1;34m\u001b[0m\n\u001b[0;32m      4\u001b[0m m2 \u001b[38;5;241m=\u001b[39m \u001b[38;5;241m-\u001b[39m\u001b[38;5;241m9999999999\u001b[39m\n\u001b[0;32m      5\u001b[0m \u001b[38;5;28;01mfor\u001b[39;00m i \u001b[38;5;129;01min\u001b[39;00m \u001b[38;5;28mrange\u001b[39m(n):\n\u001b[1;32m----> 6\u001b[0m     \u001b[38;5;28;01mif\u001b[39;00m \u001b[43marr\u001b[49m\u001b[43m[\u001b[49m\u001b[43mi\u001b[49m\u001b[43m]\u001b[49m \u001b[38;5;241m!=\u001b[39m m1 \u001b[38;5;129;01mand\u001b[39;00m arr[i] \u001b[38;5;241m>\u001b[39m m2:\n\u001b[0;32m      7\u001b[0m         m2 \u001b[38;5;241m=\u001b[39m arr[i]\n\u001b[0;32m      8\u001b[0m \u001b[38;5;28mprint\u001b[39m( m2)\n",
      "\u001b[1;31mTypeError\u001b[0m: 'map' object is not subscriptable"
     ]
    }
   ],
   "source": [
    "    n = int(input())\n",
    "    arr = map(int,input().split())\n",
    "    m1 = max(arr)\n",
    "    m2 = -9999999999\n",
    "    for i in range(n):\n",
    "        if arr[i] != m1 and arr[i] > m2:\n",
    "            m2 = arr[i]\n",
    "    print( m2)"
   ]
  },
  {
   "cell_type": "code",
   "execution_count": 25,
   "id": "d31f05ab",
   "metadata": {},
   "outputs": [
    {
     "name": "stdout",
     "output_type": "stream",
     "text": [
      "1\n",
      "we 12 34 34\n",
      "we\n",
      "26.67\n"
     ]
    }
   ],
   "source": [
    "\n",
    "    n = int(input())\n",
    "    student_marks = {}\n",
    "    for _ in range(n):\n",
    "        name, *line = input().split()\n",
    "        scores = list(map(float, line))\n",
    "        student_marks[name] = scores\n",
    "    query_name = input()\n",
    "print('{0:.2f}'.format(sum(student_marks[query_name])/len(student_marks[query_name])))"
   ]
  },
  {
   "cell_type": "code",
   "execution_count": null,
   "id": "72a1b591",
   "metadata": {
    "scrolled": true
   },
   "outputs": [
    {
     "name": "stdout",
     "output_type": "stream",
     "text": [
      "12\n"
     ]
    }
   ],
   "source": [
    "list1 = []\n",
    "n = int(input())\n",
    "for i in range(n):\n",
    "    s, *d = input().split()\n",
    "    d = list(map(int, d))\n",
    "    if s == \"print\":\n",
    "        print(list1)\n",
    "    else:\n",
    "        getattr(list1, s)(*d)"
   ]
  },
  {
   "cell_type": "code",
   "execution_count": 27,
   "id": "e9c8ce0b",
   "metadata": {},
   "outputs": [
    {
     "name": "stdout",
     "output_type": "stream",
     "text": [
      "3\n",
      "1 2 3\n",
      "529344067295497451\n"
     ]
    }
   ],
   "source": [
    "n = int(input())\n",
    "print( hash(tuple([int(i) for i in input().split()])))"
   ]
  }
 ],
 "metadata": {
  "kernelspec": {
   "display_name": "Python 3 (ipykernel)",
   "language": "python",
   "name": "python3"
  },
  "language_info": {
   "codemirror_mode": {
    "name": "ipython",
    "version": 3
   },
   "file_extension": ".py",
   "mimetype": "text/x-python",
   "name": "python",
   "nbconvert_exporter": "python",
   "pygments_lexer": "ipython3",
   "version": "3.10.2"
  }
 },
 "nbformat": 4,
 "nbformat_minor": 5
}
